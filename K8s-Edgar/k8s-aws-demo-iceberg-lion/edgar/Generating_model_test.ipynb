{
 "cells": [
  {
   "cell_type": "code",
   "execution_count": 1,
   "metadata": {},
   "outputs": [],
   "source": [
    "# Imports\n",
    "import text_preprocessor\n",
    "import os\n",
    "import pandas as pd\n",
    "import matplotlib.pyplot as plt\n",
    "import random\n",
    "import statsmodels.api as sm\n",
    "import statsmodels.formula.api as smf \n",
    "import os\n",
    "import re\n",
    "import datetime as dt\n",
    "from sklearn.naive_bayes import GaussianNB\n",
    "import pandas as pd\n",
    "from sklearn.feature_extraction.text import TfidfVectorizer, CountVectorizer\n",
    "from sklearn.naive_bayes import MultinomialNB\n",
    "from joblib import dump\n",
    "import pathlib\n",
    "from sklearn.model_selection import train_test_split\n",
    "from sklearn.metrics import accuracy_score, ConfusionMatrixDisplay, confusion_matrix\n",
    "import joblib\n"
   ]
  },
  {
   "cell_type": "code",
   "execution_count": 2,
   "metadata": {},
   "outputs": [],
   "source": [
    "txt_folder = os.getcwd() + '/10k_filings_XS/'\n",
    "fin_folder = os.getcwd() + '/finance_data/'\n",
    "processed_files = os.getcwd() + '/processed_files/'"
   ]
  },
  {
   "cell_type": "code",
   "execution_count": 4,
   "metadata": {},
   "outputs": [],
   "source": [
    "# Open folder of html 10-k files\n",
    "dir_list = os.listdir(txt_folder)\n",
    "\n",
    "sent_data = pd.DataFrame({'Symbol':[]})\n",
    "\n",
    "# Iterate through tickers in folder\n",
    "for ticker in dir_list:\n",
    "    # Pass each file into clean_html_text one at a time\n",
    "    for file in os.listdir(txt_folder + '/' + ticker):\n",
    "        input_path = txt_folder + '/' + ticker + '/' +  file\n",
    "        ticker, date = file.split(\"_10-k_\")\n",
    "        date = date.replace(\".txt\",\"\")\n",
    "        d = {'Symbol':[ticker],'Date':[date],'Data':[text_preprocessor.process_text_files(input_path)]}\n",
    "        new_df = pd.DataFrame(data=d)\n",
    "        sent_data = pd.concat([sent_data, new_df], axis=0)\n",
    "\n"
   ]
  },
  {
   "cell_type": "code",
   "execution_count": 6,
   "metadata": {},
   "outputs": [
    {
     "name": "stderr",
     "output_type": "stream",
     "text": [
      "C:\\Users\\KIRSTY~1\\AppData\\Local\\Temp/ipykernel_31332/193429313.py:8: DeprecationWarning: The default dtype for empty Series will be 'object' instead of 'float64' in a future version. Specify a dtype explicitly to silence this warning.\n",
      "  newdat.loc[:,'Symbol']=pd.Series([next(pattern.finditer(data))[0] for i in range(0,newdat.shape[0])])\n"
     ]
    }
   ],
   "source": [
    "stock_data=pd.DataFrame()\n",
    "\n",
    "pattern = re.compile(r'[A-Z]+')\n",
    "\n",
    "\n",
    "for data in os.listdir(fin_folder):\n",
    "    newdat=pd.DataFrame(pd.read_csv(fin_folder + '/' + data))\n",
    "    newdat.loc[:,'Symbol']=pd.Series([next(pattern.finditer(data))[0] for i in range(0,newdat.shape[0])])\n",
    "    stock_data=pd.concat([stock_data,newdat],axis=0)\n",
    "    \n",
    "# stock_data['Date'] = pd.to_datetime(stock_data['Date'])\n",
    "\n",
    "def direction(x):\n",
    "    if x>0:\n",
    "        return 1\n",
    "    else:\n",
    "        return 0\n"
   ]
  },
  {
   "cell_type": "code",
   "execution_count": 7,
   "metadata": {},
   "outputs": [],
   "source": [
    "stock_data['Direction'] = stock_data['1daily_return'].apply(direction)\n",
    "stock_data = stock_data[['Symbol','Date','Direction']]\n"
   ]
  },
  {
   "cell_type": "code",
   "execution_count": 8,
   "metadata": {},
   "outputs": [],
   "source": [
    "\n",
    "# Compiling the data\n",
    "df_total=pd.merge(sent_data,stock_data,how='inner', left_on=['Symbol','Date'],right_on=['Symbol','Date'])\n",
    "# df_total.drop(columns='Unnamed: 0', inplace=True)"
   ]
  },
  {
   "cell_type": "code",
   "execution_count": null,
   "metadata": {},
   "outputs": [],
   "source": [
    "\n",
    "# Create a Gaussian Naive Bayes Classifier\n",
    "#vectorizer = TfidfVectorizer()\n",
    "vectorizer = CountVectorizer(ngram_range = (1,1))\n",
    "model = MultinomialNB()\n",
    "\n",
    "# Create the data\n",
    "df_train, df_test = train_test_split(df_total,test_size=0.2)\n",
    "X_train = vectorizer.fit_transform(df_train['Data'])\n",
    "y_train = df_train['Direction']\n",
    "\n",
    "X_test = vectorizer.transform(df_test['Data'])\n",
    "y_test = df_test['Direction']\n",
    "\n",
    "# Fit the model\n",
    "model.fit(X_train,y_train)\n",
    "\n",
    "# Save the model to file \n",
    "dump(vectorizer, './Tfidfvectorizer.joblib')\n",
    "dump(model, './model.joblib')\n"
   ]
  },
  {
   "cell_type": "code",
   "execution_count": 9,
   "metadata": {},
   "outputs": [],
   "source": [
    "model = joblib.load('model.joblib')\n",
    "vectorizer = joblib.load('Tfidfvectorizer.joblib')"
   ]
  },
  {
   "cell_type": "code",
   "execution_count": null,
   "metadata": {},
   "outputs": [],
   "source": [
    "test_predictions = model.predict(X_test)\n",
    "train_predictions = model.predict(X_train)\n",
    "\n",
    "test_acc = accuracy_score(y_test,test_predictions)\n",
    "train_acc = accuracy_score(y_train,train_predictions)\n",
    "print(test_acc)\n",
    "print(train_acc)"
   ]
  },
  {
   "cell_type": "code",
   "execution_count": null,
   "metadata": {},
   "outputs": [],
   "source": [
    "cm = confusion_matrix(df_train['Direction'],train_predictions)\n",
    "disp = ConfusionMatrixDisplay(confusion_matrix=cm, display_labels=model.classes_)\n",
    "disp.plot()\n",
    "plt.show()\n"
   ]
  },
  {
   "cell_type": "code",
   "execution_count": null,
   "metadata": {},
   "outputs": [],
   "source": [
    "predictions = model.predict_proba(X_test)[:,1]\n",
    "from sklearn.metrics import accuracy_score, plot_confusion_matrix, roc_curve, roc_auc_score, precision_recall_curve, PrecisionRecallDisplay\n",
    "fpr, tpr, threshold = roc_curve(df_test['Direction'], predictions)\n",
    "roc_auc_score(df_test['Direction'], predictions)\n",
    "\n",
    "fig, ax = plt.subplots()\n",
    "ax.plot(fpr, tpr)\n",
    "ax.set_xlabel('1 - TNR (FPR)')\n",
    "ax.set_ylabel('TPR')\n",
    "ax.set_title('ROC Curve')\n",
    "ax.plot([0,1],[0,1],color='red',linestyle='--')\n",
    "\n",
    "precision, recall, threshold = precision_recall_curve(df_test['Direction'], predictions)\n",
    "fig, ax = plt.subplots()\n",
    "ax.plot(recall, precision)\n",
    "ax.set_xlabel('Recall')\n",
    "ax.set_ylabel('Precision')\n",
    "ax.set_title('Precision-Recall Curve')\n",
    "no_skill = len(df_test[df_test['Direction']==1]) / len(df_test)\n",
    "ax.plot([0,1],[no_skill,no_skill],color='red',linestyle='--')"
   ]
  },
  {
   "cell_type": "code",
   "execution_count": null,
   "metadata": {},
   "outputs": [],
   "source": []
  }
 ],
 "metadata": {
  "interpreter": {
   "hash": "504b7f11fa515a2c61599b204c9528bcd10615cb8a7d0b73bdae1f8fb83f986d"
  },
  "kernelspec": {
   "display_name": "Python 3.9.7 64-bit ('base': conda)",
   "language": "python",
   "name": "python3"
  },
  "language_info": {
   "codemirror_mode": {
    "name": "ipython",
    "version": 3
   },
   "file_extension": ".py",
   "mimetype": "text/x-python",
   "name": "python",
   "nbconvert_exporter": "python",
   "pygments_lexer": "ipython3",
   "version": "3.9.7"
  },
  "orig_nbformat": 4
 },
 "nbformat": 4,
 "nbformat_minor": 2
}
